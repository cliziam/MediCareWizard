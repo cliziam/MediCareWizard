{
 "cells": [
  {
   "cell_type": "code",
   "execution_count": 13,
   "metadata": {},
   "outputs": [],
   "source": [
    "import random\n",
    "import csv\n",
    "\n",
    "exam_types = ['Nutritional Exam','Paediatric Exam','Cardiological Exam','Breast Exam','Ultrasound Exam']\n",
    "\n",
    "dates = ['Fri Aug 26 2022','Sat Aug 27 2022']\n",
    "\n",
    "hours = ['Morning(8:00-12:00)','Afternoon(12:00-16:00','Evening(16:00-20:00)','No Preferences']\n",
    "\n",
    "seats_available=10\n",
    "\n"
   ]
  },
  {
   "cell_type": "code",
   "execution_count": 14,
   "metadata": {},
   "outputs": [],
   "source": [
    "#crea tabella per bookingapp\n",
    "with open('bookingapp.csv','w') as f:\n",
    "    writer=csv.writer(f, delimiter=',', lineterminator='\\n')\n",
    "        \n",
    "    writer.writerow(('examtype', 'date', 'hour','seatsAvailable'))\n",
    "    for exam in exam_types:\n",
    "        for date in dates:\n",
    "            for hour in hours:\n",
    "                row=[exam,date,hour,seats_available]\n",
    "                writer.writerow(row)  \n",
    "            \n"
   ]
  },
  {
   "cell_type": "code",
   "execution_count": 11,
   "metadata": {},
   "outputs": [],
   "source": [
    "def getReservation(exam_types, dates, hours):\n",
    "    exam_type = random.choice(exam_types)\n",
    "    date = random.choice(dates)\n",
    "\n",
    "    hour = random.choice(hours)\n",
    "\n",
    "    return [exam_type, date, hour,seats_available]\n",
    "\n"
   ]
  },
  {
   "cell_type": "code",
   "execution_count": 12,
   "metadata": {},
   "outputs": [],
   "source": [
    "with open('exam_dates_times.csv','w') as f:\n",
    "    writer=csv.writer(f, delimiter=',', lineterminator='\\n')\n",
    "    \n",
    "    writer.writerow(('examtype', 'date', 'hour','seatsAvailable'))\n",
    "    for _ in range(10000):\n",
    "        reservation = getReservation(exam_types, dates, hours)\n",
    "        writer.writerow(reservation)\n"
   ]
  }
 ],
 "metadata": {
  "kernelspec": {
   "display_name": "Python 3.9.0 ('fds')",
   "language": "python",
   "name": "python3"
  },
  "language_info": {
   "codemirror_mode": {
    "name": "ipython",
    "version": 3
   },
   "file_extension": ".py",
   "mimetype": "text/x-python",
   "name": "python",
   "nbconvert_exporter": "python",
   "pygments_lexer": "ipython3",
   "version": "3.9.0"
  },
  "orig_nbformat": 4,
  "vscode": {
   "interpreter": {
    "hash": "c0e40e7c7a66e87c69eaa7498d7778a1d8fa6b3e422091d0b3e8dafd8f730247"
   }
  }
 },
 "nbformat": 4,
 "nbformat_minor": 2
}
